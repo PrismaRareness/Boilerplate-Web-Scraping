{
 "cells": [
  {
   "cell_type": "markdown",
   "metadata": {},
   "source": [
    "# Identifying information from a Website\n",
    "<br>\n",
    "Identifying basic technologies used by a website using the `buildwith` library."
   ]
  },
  {
   "cell_type": "code",
   "execution_count": 3,
   "metadata": {},
   "outputs": [
    {
     "name": "stdout",
     "output_type": "stream",
     "text": [
      "- advertising-networks : AppNexus\n",
      "- javascript-graphics : Javascript Infovis Toolkit\n",
      "- javascript-frameworks : React\n",
      "- javascript-frameworks : RequireJS\n"
     ]
    }
   ],
   "source": [
    "import builtwith\n",
    "\n",
    "\n",
    "tecs = builtwith.parse('https://www.facebook.com')\n",
    "\n",
    "for tec, value in tecs.items():\n",
    "    for i in value:\n",
    "        print(\"-\", tec, \":\", i)"
   ]
  },
  {
   "cell_type": "markdown",
   "metadata": {},
   "source": [
    "# Identifying the owner of a website. \n",
    "<br>\n",
    "If a company is known for blocking web crawlers, it would be good to be more conservative with the download rate."
   ]
  },
  {
   "cell_type": "code",
   "execution_count": 4,
   "metadata": {
    "scrolled": false
   },
   "outputs": [
    {
     "name": "stdout",
     "output_type": "stream",
     "text": [
      "- domain_name : FACEBOOK.COM \n",
      "\n",
      "- registrar : RegistrarSafe, LLC \n",
      "\n",
      "- whois_server : whois.registrarsafe.com \n",
      "\n",
      "- referral_url : None \n",
      "\n",
      "- updated_date : 2022-01-26 16:45:06 \n",
      "\n",
      "- creation_date : 1997-03-29 05:00:00 \n",
      "\n",
      "- expiration_date : 2031-03-30 04:00:00 \n",
      "\n",
      "- name_servers : ['A.NS.FACEBOOK.COM', 'B.NS.FACEBOOK.COM', 'C.NS.FACEBOOK.COM', 'D.NS.FACEBOOK.COM'] \n",
      "\n",
      "- status : ['clientDeleteProhibited https://icann.org/epp#clientDeleteProhibited', 'clientTransferProhibited https://icann.org/epp#clientTransferProhibited', 'clientUpdateProhibited https://icann.org/epp#clientUpdateProhibited', 'serverDeleteProhibited https://icann.org/epp#serverDeleteProhibited', 'serverTransferProhibited https://icann.org/epp#serverTransferProhibited', 'serverUpdateProhibited https://icann.org/epp#serverUpdateProhibited', 'serverUpdateProhibited https://www.icann.org/epp#serverUpdateProhibited', 'clientDeleteProhibited https://www.icann.org/epp#clientDeleteProhibited', 'clientTransferProhibited https://www.icann.org/epp#clientTransferProhibited', 'serverDeleteProhibited https://www.icann.org/epp#serverDeleteProhibited', 'serverTransferProhibited https://www.icann.org/epp#serverTransferProhibited', 'clientUpdateProhibited https://www.icann.org/epp#clientUpdateProhibited'] \n",
      "\n",
      "- emails : ['abusecomplaints@registrarsafe.com', 'domain@fb.com'] \n",
      "\n",
      "- dnssec : unsigned \n",
      "\n",
      "- name : Domain Admin \n",
      "\n",
      "- org : Meta Platforms, Inc. \n",
      "\n",
      "- address : 1601 Willow Rd \n",
      "\n",
      "- city : Menlo Park \n",
      "\n",
      "- state : CA \n",
      "\n",
      "- zipcode : 94025 \n",
      "\n",
      "- country : US \n",
      "\n"
     ]
    }
   ],
   "source": [
    "import whois\n",
    "\n",
    "\n",
    "owner_information = whois.whois('facebook.com')\n",
    "\n",
    "for information, key in owner_information.items():\n",
    "    print(\"-\", information, \":\", key, \"\\n\")"
   ]
  },
  {
   "cell_type": "markdown",
   "metadata": {},
   "source": [
    "### Isolating content data read from a page's HTML output"
   ]
  },
  {
   "cell_type": "markdown",
   "metadata": {},
   "source": [
    "We will use `BeautifulSoup` to perform the analysis of the information."
   ]
  },
  {
   "cell_type": "code",
   "execution_count": 193,
   "metadata": {
    "scrolled": false
   },
   "outputs": [
    {
     "name": "stdout",
     "output_type": "stream",
     "text": [
      "- http://www.google.com.br/imghp?hl=pt-BR&tab=wi\n",
      "- http://maps.google.com.br/maps?hl=pt-BR&tab=wl\n",
      "- https://play.google.com/?hl=pt-BR&tab=w8\n",
      "- http://www.youtube.com/?gl=BR&tab=w1\n",
      "- https://news.google.com/?tab=wn\n",
      "- https://mail.google.com/mail/?tab=wm\n",
      "- https://drive.google.com/?tab=wo\n",
      "- https://www.google.com.br/intl/pt-BR/about/products?tab=wh\n",
      "- http://www.google.com.br/history/optout?hl=pt-BR\n",
      "- /preferences?hl=pt-BR\n",
      "- https://accounts.google.com/ServiceLogin?hl=pt-BR&passive=true&continue=http://www.google.com/&ec=GAZAAQ\n",
      "- /search?ie=UTF-8&q=Manfredo+Fest&oi=ddle&ct=220025307&hl=pt-BR&sa=X&ved=0ahUKEwiCr9qLpd33AhXQBLkGHfgGCRAQPQgD\n",
      "- /advanced_search?hl=pt-BR&authuser=0\n",
      "- /intl/pt-BR/ads/\n",
      "- /services/\n",
      "- /intl/pt-BR/about.html\n",
      "- http://www.google.com/setprefdomain?prefdom=BR&prev=http://www.google.com.br/&sig=K_BPZiFpRz2dVecot0dDVASz5xHRg%3D\n",
      "- /intl/pt-BR/policies/privacy/\n",
      "- /intl/pt-BR/policies/terms/\n"
     ]
    }
   ],
   "source": [
    "from urllib.request import urlopen\n",
    "from bs4 import BeautifulSoup\n",
    "\n",
    "\n",
    "html = urlopen(\"http://google.com\")\n",
    "bsObj = BeautifulSoup(html.read(), \"html.parser\")\n",
    "\n",
    "\n",
    "page_links = bsObj.find_all('a')\n",
    "\n",
    "for link in page_links: \n",
    "    print(\"-\", link.get(\"href\")) "
   ]
  },
  {
   "cell_type": "markdown",
   "metadata": {},
   "source": [
    "### Most complete program that searches for links from any website: scraping news based on names"
   ]
  },
  {
   "cell_type": "code",
   "execution_count": null,
   "metadata": {
    "scrolled": true
   },
   "outputs": [
    {
     "name": "stdout",
     "output_type": "stream",
     "text": [
      "https://g1.globo.com/politica/noticia/2022/05/13/empresario-diz-a-pf-que-pagou-r-95-mil-para-reforma-de-escritorio-de-jair-renan-bolsonaro.ghtml\n",
      "https://g1.globo.com/politica/politico/jair-bolsonaro/\n",
      "https://g1.globo.com/politica/noticia/2022/05/13/deputados-conselho-etica-deboche-eduardo-bolsonaro-tortura-miriam-leitao.ghtml\n",
      "https://g1.globo.com/politica/politico/eduardo-bolsonaro/\n",
      "https://g1.globo.com/jornal-nacional/noticia/2022/05/04/conselho-de-etica-da-camara-abre-processo-para-apurar-conduta-de-eduardo-bolsonaro.ghtml\n",
      " https://g1.globo.com/mundo/ucrania-russia/\n",
      "https://g1.globo.com/mundo/ucrania-russia/noticia/2022/05/13/forcas-ucranianas-frustram-avanco-de-coluna-blindada-russa-na-regiao-de-donbass-indica-video.ghtml\n",
      "https://g1.globo.com/tudo-sobre/ucrania/\n",
      "https://g1.globo.com/globonews/estudio-i/video/ue-promete-mais-500-milhoes-de-euros-em-ajuda-a-ucrania-10573594.ghtml\n",
      "https://g1.globo.com/mundo/ucrania-russia/noticia/2022/05/13/zelensky-diz-que-esta-preparado-para-conversar-com-putin.ghtml\n",
      "https://g1.globo.com/mundo/ucrania-russia/noticia/2022/05/13/putin-e-scholz-discutem-negociacoes-de-paz-na-ucrania.ghtml\n",
      "https://g1.globo.com/tudo-sobre/russia/\n",
      "https://g1.globo.com/mundo/noticia/2022/05/13/regiao-separatista-da-georgia-fara-referendo-em-julho-para-se-unir-a-russia.ghtml\n",
      "https://g1.globo.com/mundo/noticia/2022/05/13/prisao-de-jogadora-americana-na-russia-ira-durar-mais-um-mes.ghtml\n",
      "https://g1.globo.com/mundo/noticia/2022/05/12/com-entrada-na-otan-suecia-e-finlandia-podem-se-tornar-alvo-diz-representante-da-russia-na-onu.ghtml\n",
      "https://g1.globo.com/mundo/noticia/2022/05/12/kremlin-diz-que-adesao-da-finlandia-a-otan-e-uma-ameaca-definitiva-a-russia.ghtml\n",
      "https://g1.globo.com/mundo/ucrania-russia/noticia/2022/05/12/numero-de-refugiados-fugindo-da-guerra-na-ucrania-ultrapassa-6-milhoes.ghtml\n",
      "https://g1.globo.com/mundo/noticia/2022/05/12/ucrania-denuncia-na-onu-lista-interminavel-de-atrocidades-cometidas-pela-russia.ghtml\n",
      "https://g1.globo.com/tudo-sobre/russia/index/feed/pagina-4.ghtml\n",
      "https://g1.globo.com/jornal-nacional/noticia/2022/05/09/manifestantes-atiram-tinta-vermelha-em-embaixador-da-russia-na-polonia.ghtml\n",
      "https://g1.globo.com/mundo/noticia/2022/05/08/guerra-na-ucrania-por-que-o-dia-da-vitoria-em-9-de-maio-e-tao-importante-para-a-russia.ghtml\n",
      "https://api.whatsapp.com/send?text=https://g1.globo.com/mundo/noticia/2022/05/08/guerra-na-ucrania-por-que-o-dia-da-vitoria-em-9-de-maio-e-tao-importante-para-a-russia.ghtml?utm_source%3Dwhatsapp%26utm_medium%3Dshare-engagement%26utm_campaign%3Dte-materias\n",
      "https://web.whatsapp.com/send?text=https%3A%2F%2Fg1.globo.com%2Fmundo%2Fnoticia%2F2022%2F05%2F08%2Fguerra-na-ucrania-por-que-o-dia-da-vitoria-em-9-de-maio-e-tao-importante-para-a-russia.ghtml%3Futm_source%3Dwhatsapp%26utm_medium%3Dshare-engagement%26utm_campaign%3Dte-materias\n",
      "https://telegram.me/share/url?url=https://g1.globo.com/mundo/noticia/2022/05/08/guerra-na-ucrania-por-que-o-dia-da-vitoria-em-9-de-maio-e-tao-importante-para-a-russia.ghtml?utm_source%3Dtelegram%26utm_medium%3Dshare-engagement%26utm_campaign%3Dte-materias\n",
      "tg://msg_url?url=https%3A%2F%2Fg1.globo.com%2Fmundo%2Fnoticia%2F2022%2F05%2F08%2Fguerra-na-ucrania-por-que-o-dia-da-vitoria-em-9-de-maio-e-tao-importante-para-a-russia.ghtml%3Futm_source%3Dtelegram%26utm_medium%3Dshare-engagement%26utm_campaign%3Dte-materias\n",
      "https://g1.globo.com/mundo/ucrania-russia/noticia/2022/05/08/civis-retirados-de-mariupol-chegam-a-cidade-controlada-pela-ucrania.ghtml\n",
      "https://g1.globo.com/mundo/noticia/2022/05/06/dia-da-vitoria-saiba-o-que-representa-a-data-para-a-russia-e-por-que-ela-deixa-o-ocidente-em-alerta.ghtml\n",
      "https://g1.globo.com/mundo/ucrania-russia/noticia/2022/05/03/nova-retirada-de-civis-de-mariupol-e-bem-sucedida.ghtml\n",
      "https://g1.globo.com/mundo/noticia/2022/05/05/classificado-como-nazista-por-moscou-batalhao-azov-e-considerado-heroico-por-parte-dos-ucranianos-entenda.ghtml\n",
      "https://g1.globo.com/mundo/noticia/2022/05/09/putin-recorda-triunfo-da-segunda-guerra-para-pedir-vitoria-na-ucrania.ghtml\n",
      "https://g1.globo.com/mundo/ucrania-russia/noticia/2022/05/09/sem-vitorias-a-declarar-putin-tenta-justificar-sua-guerra-para-os-russos.ghtml\n",
      "https://g1.globo.com/mundo/ucrania-russia/noticia/2022/05/09/sem-citar-o-presidente-da-russia-zelensky-da-a-entender-que-putin-e-louco-e-repete-os-crimes-de-hitler.ghtml\n",
      "https://g1.globo.com/mundo/ucrania-russia/noticia/2022/05/07/russia-precisa-devolver-territorios-a-condicao-de-zelensky-para-negociar-paz-na-ucrania.ghtml\n",
      "https://g1.globo.com/mundo/noticia/2022/05/08/u2-faz-show-improvisado-no-metro-de-kiev-em-solidariedade-a-ucrania.ghtml\n",
      "https://g1.globo.com/mundo/noticia/2022/02/24/russia-invade-a-ucrania-fotos.ghtml\n",
      "https://g1.globo.com/mundo/noticia/2022/02/24/putin-autoriza-operacao-especial-no-leste-da-ucrania.ghtml\n",
      "https://g1.globo.com/mundo/ao-vivo/guerra-ucrania-russia-putin-invasao.ghtml\n",
      "https://www.facebook.com/sharer/sharer.php?u=https://g1.globo.com/mundo/ao-vivo/guerra-ucrania-russia-putin-invasao.ghtml\n",
      "https://twitter.com/share?url=https://g1.globo.com/mundo/ao-vivo/guerra-ucrania-russia-putin-invasao.ghtml&text=GUERRA+NA+UCR%C3%82NIA%3A+ONU+anuncia+segunda+retirada+de+civis+em+Mariupol%3B+Kiev+acusa+R%C3%BAssia+de+romper+promessa+e+invadir+%C3%BAltimo+ponto+de+resist%C3%AAncia+na+cidade\n",
      "whatsapp://send?text=GUERRA+NA+UCR%C3%82NIA%3A+ONU+anuncia+segunda+retirada+de+civis+em+Mariupol%3B+Kiev+acusa+R%C3%BAssia+de+romper+promessa+e+invadir+%C3%BAltimo+ponto+de+resist%C3%AAncia+na+cidade%20https://g1.globo.com/mundo/ao-vivo/guerra-ucrania-russia-putin-invasao.ghtml\n",
      "https://api.whatsapp.com/send?text=https://g1.globo.com/mundo/noticia/2022/02/24/putin-autoriza-operacao-especial-no-leste-da-ucrania.ghtml?utm_source%3Dwhatsapp%26utm_medium%3Dshare-engagement%26utm_campaign%3Dte-materias\n",
      "https://web.whatsapp.com/send?text=https%3A%2F%2Fg1.globo.com%2Fmundo%2Fnoticia%2F2022%2F02%2F24%2Fputin-autoriza-operacao-especial-no-leste-da-ucrania.ghtml%3Futm_source%3Dwhatsapp%26utm_medium%3Dshare-engagement%26utm_campaign%3Dte-materias\n",
      "https://telegram.me/share/url?url=https://g1.globo.com/mundo/noticia/2022/02/24/putin-autoriza-operacao-especial-no-leste-da-ucrania.ghtml?utm_source%3Dtelegram%26utm_medium%3Dshare-engagement%26utm_campaign%3Dte-materias\n",
      "tg://msg_url?url=https%3A%2F%2Fg1.globo.com%2Fmundo%2Fnoticia%2F2022%2F02%2F24%2Fputin-autoriza-operacao-especial-no-leste-da-ucrania.ghtml%3Futm_source%3Dtelegram%26utm_medium%3Dshare-engagement%26utm_campaign%3Dte-materias\n",
      "https://g1.globo.com/mundo/noticia/2022/02/24/presidente-da-ucrania-diz-que-pais-foi-deixado-sozinho-contra-a-russia-e-convoca-a-populacao-para-a-guerra.ghtml\n",
      "https://api.whatsapp.com/send?text=https://g1.globo.com/mundo/noticia/2022/02/24/presidente-da-ucrania-diz-que-pais-foi-deixado-sozinho-contra-a-russia-e-convoca-a-populacao-para-a-guerra.ghtml?utm_source%3Dwhatsapp%26utm_medium%3Dshare-engagement%26utm_campaign%3Dte-materias\n",
      "https://web.whatsapp.com/send?text=https%3A%2F%2Fg1.globo.com%2Fmundo%2Fnoticia%2F2022%2F02%2F24%2Fpresidente-da-ucrania-diz-que-pais-foi-deixado-sozinho-contra-a-russia-e-convoca-a-populacao-para-a-guerra.ghtml%3Futm_source%3Dwhatsapp%26utm_medium%3Dshare-engagement%26utm_campaign%3Dte-materias\n",
      "https://telegram.me/share/url?url=https://g1.globo.com/mundo/noticia/2022/02/24/presidente-da-ucrania-diz-que-pais-foi-deixado-sozinho-contra-a-russia-e-convoca-a-populacao-para-a-guerra.ghtml?utm_source%3Dtelegram%26utm_medium%3Dshare-engagement%26utm_campaign%3Dte-materias\n",
      "tg://msg_url?url=https%3A%2F%2Fg1.globo.com%2Fmundo%2Fnoticia%2F2022%2F02%2F24%2Fpresidente-da-ucrania-diz-que-pais-foi-deixado-sozinho-contra-a-russia-e-convoca-a-populacao-para-a-guerra.ghtml%3Futm_source%3Dtelegram%26utm_medium%3Dshare-engagement%26utm_campaign%3Dte-materias\n",
      "https://g1.globo.com/mundo/ucrania-russia/noticia/2022/02/24/por-que-a-russia-invadiu-a-ucrania.ghtml\n",
      "https://g1.globo.com/mundo/ucrania-russia/noticia/2022/02/24/linha-do-tempo-putin-ataca-a-ucrania.ghtml\n",
      "https://g1.globo.com/mundo/noticia/2022/02/21/putin-diz-na-tv-que-vai-reconhecer-duas-regioes-separatistas-da-ucrania-como-independentes.ghtml\n",
      "https://g1.globo.com/mundo/noticia/2022/02/21/como-o-reconhecimento-russo-de-areas-separatistas-na-ucrania-pode-inflamar-ainda-mais-a-crise-na-regiao.ghtml\n"
     ]
    },
    {
     "name": "stdout",
     "output_type": "stream",
     "text": [
      "https://g1.globo.com/mundo/noticia/2022/02/17/separatistas-da-ucrania-afirmam-que-foram-atacados-militares-negam.ghtml\n",
      "https://g1.globo.com/mundo/noticia/2022/02/16/russia-anuncia-fim-das-manobras-militares-na-crimeia-e-retirada-de-tropas.ghtml\n",
      "https://g1.globo.com/mundo/noticia/2022/02/15/biden-sauda-anuncio-de-retirada-de-tropas-russas-mas-alerta-que-invasao-da-ucrania-ainda-e-forte-possibilidade.ghtml\n",
      "https://g1.globo.com/mundo/noticia/2022/02/15/algumas-tropas-russas-mobilizadas-na-perto-da-fronteira-com-a-ucrania-retornam-aos-quarteis.ghtml\n",
      "https://g1.globo.com/mundo/noticia/2022/02/14/ucrania-persistira-com-objetivo-de-ingressar-na-otan-diz-presidente-russia-ve-possibilidade-de-acordo-com-paises-ocidentais.ghtml\n",
      "https://g1.globo.com/mundo/noticia/2022/02/14/alemanha-pede-a-russia-sinais-imediatos-de-desescalada-na-ucrania.ghtml\n",
      "https://g1.globo.com/mundo/noticia/2022/02/13/embaixador-brasileiro-na-ucrania-diz-que-situacao-e-tranquila-e-normal-no-pais.ghtmlhttps://g1.globo.com/mundo/noticia/2022/02/13/ucrania-treina-civis-para-defesa-em-caso-de-invasao-russa.ghtml\n",
      "https://g1.globo.com/mundo/noticia/2022/02/13/embaixador-brasileiro-na-ucrania-diz-que-situacao-e-tranquila-e-normal-no-pais.ghtml\n",
      "https://g1.globo.com/mundo/noticia/2022/02/12/embaixada-pede-que-brasileiros-se-mantenham-em-alerta-na-ucrania.ghtml\n",
      "https://g1.globo.com/mundo/noticia/2022/02/12/paises-aconselham-cidadaos-a-deixarem-regiao-da-ucrania-em-meio-a-tensao-veja-lista.ghtml\n",
      "https://g1.globo.com/mundo/noticia/2022/02/12/companhia-aerea-holandesa-klm-deixara-de-voar-para-a-ucrania.ghtml\n",
      "https://g1.globo.com/mundo/noticia/2022/02/12/quem-sao-os-brasileiros-que-moram-na-ucrania.ghtml\n",
      "https://g1.globo.com/sp/sorocaba-jundiai/noticia/2022/02/12/brasileira-na-ucrania-relata-clima-no-pais-em-meio-a-tensao-com-russia-esperam-um-acordo-diplomatico.ghtml\n",
      "https://g1.globo.com/mundo/noticia/2022/02/12/biden-e-putin-vao-discutir-ucrania-por-telefone-neste-sabado.ghtml\n",
      "https://g1.globo.com/mundo/noticia/2022/02/11/biden-johnson-scholz-e-macron-discutem-ucrania-em-reuniao-virtual-eua-reiteram-que-invasao-russa-pode-comecar-a-qualquer-momento.ghtml\n",
      "https://g1.globo.com/mundo/noticia/2022/02/11/biden-pede-que-cidadaos-americanos-deixem-a-ucrania-diplomacia-dos-eua-diz-que-russos-podem-invadir-a-qualquer-momento.ghtml\n",
      "https://api.whatsapp.com/send?text=https://g1.globo.com/mundo/noticia/2022/02/11/biden-pede-que-cidadaos-americanos-deixem-a-ucrania-diplomacia-dos-eua-diz-que-russos-podem-invadir-a-qualquer-momento.ghtml?utm_source%3Dwhatsapp%26utm_medium%3Dshare-engagement%26utm_campaign%3Dte-materias\n",
      "https://web.whatsapp.com/send?text=https%3A%2F%2Fg1.globo.com%2Fmundo%2Fnoticia%2F2022%2F02%2F11%2Fbiden-pede-que-cidadaos-americanos-deixem-a-ucrania-diplomacia-dos-eua-diz-que-russos-podem-invadir-a-qualquer-momento.ghtml%3Futm_source%3Dwhatsapp%26utm_medium%3Dshare-engagement%26utm_campaign%3Dte-materias\n",
      "https://g1.globo.com/mundo/noticia/2022/02/10/estamos-em-um-dos-momentos-mais-perigosos-da-crise-diz-boris-johnson-sobre-conflitos-na-ucrania.ghtml\n",
      "https://api.whatsapp.com/send?text=https://g1.globo.com/mundo/noticia/2022/02/10/estamos-em-um-dos-momentos-mais-perigosos-da-crise-diz-boris-johnson-sobre-conflitos-na-ucrania.ghtml?utm_source%3Dwhatsapp%26utm_medium%3Dshare-engagement%26utm_campaign%3Dte-materias\n",
      "https://web.whatsapp.com/send?text=https%3A%2F%2Fg1.globo.com%2Fmundo%2Fnoticia%2F2022%2F02%2F10%2Festamos-em-um-dos-momentos-mais-perigosos-da-crise-diz-boris-johnson-sobre-conflitos-na-ucrania.ghtml%3Futm_source%3Dwhatsapp%26utm_medium%3Dshare-engagement%26utm_campaign%3Dte-materias\n",
      "https://telegram.me/share/url?url=https://g1.globo.com/mundo/noticia/2022/02/10/estamos-em-um-dos-momentos-mais-perigosos-da-crise-diz-boris-johnson-sobre-conflitos-na-ucrania.ghtml?utm_source%3Dtelegram%26utm_medium%3Dshare-engagement%26utm_campaign%3Dte-materias\n",
      "tg://msg_url?url=https%3A%2F%2Fg1.globo.com%2Fmundo%2Fnoticia%2F2022%2F02%2F10%2Festamos-em-um-dos-momentos-mais-perigosos-da-crise-diz-boris-johnson-sobre-conflitos-na-ucrania.ghtml%3Futm_source%3Dtelegram%26utm_medium%3Dshare-engagement%26utm_campaign%3Dte-materias\n",
      "https://g1.globo.com/mundo/noticia/2022/02/10/conversa-de-surdo-e-mudo-diz-chanceler-da-russia-apos-encontro-com-diplomacia-britanica.ghtml\n",
      "https://g1.globo.com/mundo/noticia/2022/02/09/russia-x-ucrania-entenda-guerra-hibrida-que-ucranianos-acusam-putin-de-promover.ghtml\n",
      "https://api.whatsapp.com/send?text=https://g1.globo.com/mundo/noticia/2022/02/09/russia-x-ucrania-entenda-guerra-hibrida-que-ucranianos-acusam-putin-de-promover.ghtml?utm_source%3Dwhatsapp%26utm_medium%3Dshare-engagement%26utm_campaign%3Dte-materias\n",
      "https://web.whatsapp.com/send?text=https%3A%2F%2Fg1.globo.com%2Fmundo%2Fnoticia%2F2022%2F02%2F09%2Frussia-x-ucrania-entenda-guerra-hibrida-que-ucranianos-acusam-putin-de-promover.ghtml%3Futm_source%3Dwhatsapp%26utm_medium%3Dshare-engagement%26utm_campaign%3Dte-materias\n",
      "https://telegram.me/share/url?url=https://g1.globo.com/mundo/noticia/2022/02/09/russia-x-ucrania-entenda-guerra-hibrida-que-ucranianos-acusam-putin-de-promover.ghtml?utm_source%3Dtelegram%26utm_medium%3Dshare-engagement%26utm_campaign%3Dte-materias\n",
      "tg://msg_url?url=https%3A%2F%2Fg1.globo.com%2Fmundo%2Fnoticia%2F2022%2F02%2F09%2Frussia-x-ucrania-entenda-guerra-hibrida-que-ucranianos-acusam-putin-de-promover.ghtml%3Futm_source%3Dtelegram%26utm_medium%3Dshare-engagement%26utm_campaign%3Dte-materias\n",
      "https://g1.globo.com/mundo/noticia/2022/02/04/cacas-da-otan-interceptam-avioes-da-russia-no-mar-baltico-e-de-barents.ghtml\n",
      "https://api.whatsapp.com/send?text=https://g1.globo.com/mundo/noticia/2022/02/04/cacas-da-otan-interceptam-avioes-da-russia-no-mar-baltico-e-de-barents.ghtml?utm_source%3Dwhatsapp%26utm_medium%3Dshare-engagement%26utm_campaign%3Dte-materias\n",
      "https://web.whatsapp.com/send?text=https%3A%2F%2Fg1.globo.com%2Fmundo%2Fnoticia%2F2022%2F02%2F04%2Fcacas-da-otan-interceptam-avioes-da-russia-no-mar-baltico-e-de-barents.ghtml%3Futm_source%3Dwhatsapp%26utm_medium%3Dshare-engagement%26utm_campaign%3Dte-materias\n",
      "https://telegram.me/share/url?url=https://g1.globo.com/mundo/noticia/2022/02/04/cacas-da-otan-interceptam-avioes-da-russia-no-mar-baltico-e-de-barents.ghtml?utm_source%3Dtelegram%26utm_medium%3Dshare-engagement%26utm_campaign%3Dte-materias\n",
      "tg://msg_url?url=https%3A%2F%2Fg1.globo.com%2Fmundo%2Fnoticia%2F2022%2F02%2F04%2Fcacas-da-otan-interceptam-avioes-da-russia-no-mar-baltico-e-de-barents.ghtml%3Futm_source%3Dtelegram%26utm_medium%3Dshare-engagement%26utm_campaign%3Dte-materias\n",
      "https://g1.globo.com/mundo/noticia/2022/02/04/russia-x-ucrania-eua-acusam-russos-de-planejar-falso-ataque-de-ucranianos-para-justificar-invasao.ghtml\n",
      "https://api.whatsapp.com/send?text=https://g1.globo.com/mundo/noticia/2022/02/04/russia-x-ucrania-eua-acusam-russos-de-planejar-falso-ataque-de-ucranianos-para-justificar-invasao.ghtml?utm_source%3Dwhatsapp%26utm_medium%3Dshare-engagement%26utm_campaign%3Dte-materias\n",
      "https://web.whatsapp.com/send?text=https%3A%2F%2Fg1.globo.com%2Fmundo%2Fnoticia%2F2022%2F02%2F04%2Frussia-x-ucrania-eua-acusam-russos-de-planejar-falso-ataque-de-ucranianos-para-justificar-invasao.ghtml%3Futm_source%3Dwhatsapp%26utm_medium%3Dshare-engagement%26utm_campaign%3Dte-materias\n",
      "https://telegram.me/share/url?url=https://g1.globo.com/mundo/noticia/2022/02/04/russia-x-ucrania-eua-acusam-russos-de-planejar-falso-ataque-de-ucranianos-para-justificar-invasao.ghtml?utm_source%3Dtelegram%26utm_medium%3Dshare-engagement%26utm_campaign%3Dte-materias\n",
      "tg://msg_url?url=https%3A%2F%2Fg1.globo.com%2Fmundo%2Fnoticia%2F2022%2F02%2F04%2Frussia-x-ucrania-eua-acusam-russos-de-planejar-falso-ataque-de-ucranianos-para-justificar-invasao.ghtml%3Futm_source%3Dtelegram%26utm_medium%3Dshare-engagement%26utm_campaign%3Dte-materias\n",
      "https://g1.globo.com/mundo/noticia/2022/02/03/russia-enviou-cerca-de-30-000-soldados-e-armas-modernas-para-belarus-diz-otan.ghtml\n",
      "https://g1.globo.com/jornal-nacional/noticia/2022/02/03/otan-diz-que-russia-fez-maior-movimentacao-de-soldados-desde-a-guerra-fria.ghtml\n",
      "http://g1.globo.com/mundo/ucrania/cidade/kiev.html\n",
      "https://g1.globo.com/mundo/ucrania-russia/\n",
      "https://g1.globo.com/mundo/ucrania-russia/noticia/2022/05/13/justica-da-ucrania-comeca-primeiro-julgamento-por-crime-de-guerra-desde-a-invasao-russa.ghtml\n"
     ]
    },
    {
     "name": "stdout",
     "output_type": "stream",
     "text": [
      "https://g1.globo.com/mundo/ucrania-russia/noticia/2022/05/12/soldados-russos-sao-flagrados-matando-civis-ucranianos-com-tiros-nas-costas.ghtml\n",
      "https://g1.globo.com/mundo/ucrania-russia/noticia/2022/05/01/sobreviventes-da-ocupacao-de-bucha-contam-o-que-passaram-na-mao-de-soldados-russos-estamos-vivos-por-acaso.ghtml\n",
      "https://g1.globo.com/mundo/ucrania-russia/noticia/2022/04/04/massacre-em-bucha-e-crime-de-guerra-ou-genocidio-advogado-brasileiro-que-atua-no-tpi-explica.ghtml\n",
      "https://api.whatsapp.com/send?text=https://g1.globo.com/mundo/ucrania-russia/noticia/2022/04/04/massacre-em-bucha-e-crime-de-guerra-ou-genocidio-advogado-brasileiro-que-atua-no-tpi-explica.ghtml?utm_source%3Dwhatsapp%26utm_medium%3Dshare-engagement%26utm_campaign%3Dte-materias\n",
      "https://web.whatsapp.com/send?text=https%3A%2F%2Fg1.globo.com%2Fmundo%2Fucrania-russia%2Fnoticia%2F2022%2F04%2F04%2Fmassacre-em-bucha-e-crime-de-guerra-ou-genocidio-advogado-brasileiro-que-atua-no-tpi-explica.ghtml%3Futm_source%3Dwhatsapp%26utm_medium%3Dshare-engagement%26utm_campaign%3Dte-materias\n",
      "https://telegram.me/share/url?url=https://g1.globo.com/mundo/ucrania-russia/noticia/2022/04/04/massacre-em-bucha-e-crime-de-guerra-ou-genocidio-advogado-brasileiro-que-atua-no-tpi-explica.ghtml?utm_source%3Dtelegram%26utm_medium%3Dshare-engagement%26utm_campaign%3Dte-materias\n",
      "tg://msg_url?url=https%3A%2F%2Fg1.globo.com%2Fmundo%2Fucrania-russia%2Fnoticia%2F2022%2F04%2F04%2Fmassacre-em-bucha-e-crime-de-guerra-ou-genocidio-advogado-brasileiro-que-atua-no-tpi-explica.ghtml%3Futm_source%3Dtelegram%26utm_medium%3Dshare-engagement%26utm_campaign%3Dte-materias\n",
      "https://g1.globo.com/mundo/ucrania-russia/noticia/2022/04/04/zelensky-visita-bucha-apos-massacre-e-acusa-russia-de-genocidio.ghtml\n",
      "https://g1.globo.com/mundo/ao-vivo/guerra-ucrania-russia-putin-invasao.ghtml?postId=291a3775-5039-40d1-bfbc-470beff1ec7c\n",
      "https://g1.globo.com/mundo/ao-vivo/guerra-ucrania-russia-putin-invasao.ghtml?postId=a5fcb250-576c-4924-8af7-b9d300c231be\n",
      "https://g1.globo.com/mundo/ao-vivo/guerra-ucrania-russia-putin-invasao.ghtml?postId=67e3a45f-39e8-4744-b6bf-b295e3776279\n",
      "https://g1.globo.com/mundo/ao-vivo/guerra-ucrania-russia-putin-invasao.ghtml?postId=12f71d2f-0a00-4610-827f-c6e5cbf2d757\n",
      "https://g1.globo.com/mundo/ao-vivo/guerra-ucrania-russia-putin-invasao.ghtml?postId=eb2fb0d1-f875-48b6-bb8e-720157501b94\n",
      "https://g1.globo.com/mundo/ucrania/cidade/kiev.html\n",
      "https://g1.globo.com/mundo/playlist/videos-para-entender-conflitos-entre-russia-e-ucrania.ghtml\n",
      "https://g1.globo.com/mundo/playlist/videos-para-entender-conflitos-entre-russia-e-ucrania.ghtml#video-10333910-id\n",
      "https://g1.globo.com/mundo/playlist/videos-para-entender-conflitos-entre-russia-e-ucrania.ghtml#video-10338216-id\n",
      "https://g1.globo.com/mundo/playlist/videos-para-entender-conflitos-entre-russia-e-ucrania.ghtml#video-10323814-id\n",
      "https://g1.globo.com/mundo/playlist/videos-para-entender-conflitos-entre-russia-e-ucrania.ghtml#video-10414115-id\n",
      "https://g1.globo.com/mundo/playlist/videos-para-entender-conflitos-entre-russia-e-ucrania.ghtml#video-10333888-id\n",
      "https://g1.globo.com/mundo/playlist/videos-para-entender-conflitos-entre-russia-e-ucrania.ghtml#video-10336106-id\n",
      "https://g1.globo.com/mundo/playlist/videos-para-entender-conflitos-entre-russia-e-ucrania.ghtml#video-10341894-id\n",
      "https://g1.globo.com/mundo/playlist/videos-para-entender-conflitos-entre-russia-e-ucrania.ghtml#video-10336417-id\n",
      "https://g1.globo.com/mundo/playlist/videos-para-entender-conflitos-entre-russia-e-ucrania.ghtml#video-10337357-id\n",
      "https://g1.globo.com/mundo/playlist/videos-para-entender-conflitos-entre-russia-e-ucrania.ghtml#video-10334591-id\n",
      "https://g1.globo.com/mundo/playlist/videos-para-entender-conflitos-entre-russia-e-ucrania.ghtml#video-10322900-id\n",
      "https://g1.globo.com/mundo/playlist/videos-para-entender-conflitos-entre-russia-e-ucrania.ghtml#video-10326433-id\n",
      "https://g1.globo.com/mundo/playlist/videos-para-entender-conflitos-entre-russia-e-ucrania.ghtml#video-10326410-id\n",
      "https://g1.globo.com/mundo/playlist/videos-para-entender-conflitos-entre-russia-e-ucrania.ghtml#video-10255247-id\n",
      "https://g1.globo.com/mundo/ucrania-russia/noticia/2022/05/13/ucrania-diz-que-lutara-o-tempo-que-for-necessario-pela-ilha-da-cobra-no-mar-negro.ghtml\n",
      "https://g1.globo.com/mundo/ucrania-russia/noticia/2022/05/13/apos-finlandia-suecia-indica-que-pedira-ingresso-na-otan.ghtml\n",
      "https://g1.globo.com/mundo/ucrania-russia/noticia/2022/05/12/entenda-por-que-finlandia-e-suecia-mantinham-neutralidade-e-agora-querem-entrar-na-otan.ghtml\n",
      "https://g1.globo.com/jornal-nacional/noticia/2022/04/14/russia-promete-consequencias-indesejaveis-caso-finlandia-e-suecia-entrem-na-otan.ghtml\n",
      "https://g1.globo.com/noticia/2022/04/14/russia-diz-que-finlandia-e-suecia-enfrentarao-represalias-caso-entrem-na-otan.ghtml\n",
      "https://g1.globo.com/mundo/ucrania-russia/noticia/2022/03/30/pais-mais-feliz-do-mundo-finlandia-esta-de-prontidao-para-eventual-guerra-com-a-russia-veja-preparativos.ghtml\n",
      "https://api.whatsapp.com/send?text=https://g1.globo.com/mundo/ucrania-russia/noticia/2022/03/30/pais-mais-feliz-do-mundo-finlandia-esta-de-prontidao-para-eventual-guerra-com-a-russia-veja-preparativos.ghtml?utm_source%3Dwhatsapp%26utm_medium%3Dshare-engagement%26utm_campaign%3Dte-materias\n",
      "https://web.whatsapp.com/send?text=https%3A%2F%2Fg1.globo.com%2Fmundo%2Fucrania-russia%2Fnoticia%2F2022%2F03%2F30%2Fpais-mais-feliz-do-mundo-finlandia-esta-de-prontidao-para-eventual-guerra-com-a-russia-veja-preparativos.ghtml%3Futm_source%3Dwhatsapp%26utm_medium%3Dshare-engagement%26utm_campaign%3Dte-materias\n",
      "https://telegram.me/share/url?url=https://g1.globo.com/mundo/ucrania-russia/noticia/2022/03/30/pais-mais-feliz-do-mundo-finlandia-esta-de-prontidao-para-eventual-guerra-com-a-russia-veja-preparativos.ghtml?utm_source%3Dtelegram%26utm_medium%3Dshare-engagement%26utm_campaign%3Dte-materias\n",
      "tg://msg_url?url=https%3A%2F%2Fg1.globo.com%2Fmundo%2Fucrania-russia%2Fnoticia%2F2022%2F03%2F30%2Fpais-mais-feliz-do-mundo-finlandia-esta-de-prontidao-para-eventual-guerra-com-a-russia-veja-preparativos.ghtml%3Futm_source%3Dtelegram%26utm_medium%3Dshare-engagement%26utm_campaign%3Dte-materias\n",
      "https://g1.globo.com/mundo/ucrania-russia/noticia/2022/02/25/russia-diz-que-finlandia-e-suecia-enfrentarao-consequencias-militares-e-politicas-prejudiciais-se-tentarem-entrar-na-otan.ghtml\n",
      "http://g1.globo.com/mundo/russia/cidade/moscou.html\n",
      "https://g1.globo.com/mundo/ucrania-russia/noticia/2022/02/25/eua-uniao-europeia-e-reino-unido-anunciam-sancoes-contra-putin.ghtml\n",
      "https://g1.globo.com/mundo/ucrania-russia/noticia/2022/03/24/otan-vai-se-preparar-para-cenario-em-que-a-russia-use-armas-quimicas-biologicas-ou-nucleares-na-ucrania-g7-amplia-sancoes.ghtml\n",
      "https://g1.globo.com/mundo/ucrania-russia/index/feed/pagina-4.ghtml\n",
      "https://g1.globo.com/mundo/ucrania-russia/noticia/2022/05/10/eua-devem-aumentar-entrega-de-armas-a-ucrania-apos-reativacao-de-mecanismo-usado-na-segunda-guerra.ghtml\n",
      "https://g1.globo.com/jornal-nacional/noticia/2022/02/01/putin-acusa-eua-de-tentar-levar-russia-a-guerra-contra-ucrania-e-otan.ghtml\n",
      "https://g1.globo.com/jornal-nacional/noticia/2022/02/01/chefes-das-diplomacias-dos-eua-e-da-russia-conversam-por-telefone-sobre-crise-na-ucrania.ghtml\n",
      "https://g1.globo.com/jornal-nacional/noticia/2022/01/31/eua-e-russia-trocam-acusacoes-no-conselho-de-seguranca-da-onu-unidas-sobre-ucrania.ghtml\n",
      "https://g1.globo.com/jornal-nacional/noticia/2022/01/31/analistas-internacionais-apontam-caminhos-que-tropas-russas-usariam-em-possivel-ataque-a-ucrania.ghtml\n",
      "https://g1.globo.com/jornal-nacional/noticia/2022/01/29/aumenta-o-clima-de-tensao-na-fronteira-da-ucrania-com-a-russia.ghtml\n",
      "https://g1.globo.com/jornal-nacional/noticia/2022/01/27/arma-invisivel-da-russia-torna-crise-com-a-ucrania-ainda-mais-delicada.ghtml\n",
      "https://g1.globo.com/jornal-nacional/noticia/2022/01/27/eua-pedem-reuniao-ao-conselho-de-seguranca-da-onu-para-discutir-crise-na-ucrania.ghtml\n",
      "https://g1.globo.com/jornal-nacional/noticia/2022/01/27/otan-esta-no-centro-da-tensao-entre-ocidente-e-russia-em-torno-da-ucrania.ghtml\n",
      "https://g1.globo.com/jornal-nacional/noticia/2022/01/26/eua-rejeitam-exigencias-russas-sobre-a-ucrania.ghtml\n",
      "https://g1.globo.com/mundo/noticia/2022/01/26/russia-x-ucrania-o-que-e-a-otan-e-qual-seu-papel-na-crise.ghtml\n"
     ]
    },
    {
     "name": "stdout",
     "output_type": "stream",
     "text": [
      "https://g1.globo.com/mundo/blog/sandra-cohen/post/2022/01/26/por-que-eua-e-europa-divergem-sobre-acao-na-ucrania-e-como-putin-se-aproveita-disso.ghtml\n",
      "https://api.whatsapp.com/send?text=https://g1.globo.com/mundo/blog/sandra-cohen/post/2022/01/26/por-que-eua-e-europa-divergem-sobre-acao-na-ucrania-e-como-putin-se-aproveita-disso.ghtml?utm_source%3Dwhatsapp%26utm_medium%3Dshare-engagement%26utm_campaign%3Dte-materias\n",
      "https://web.whatsapp.com/send?text=https%3A%2F%2Fg1.globo.com%2Fmundo%2Fblog%2Fsandra-cohen%2Fpost%2F2022%2F01%2F26%2Fpor-que-eua-e-europa-divergem-sobre-acao-na-ucrania-e-como-putin-se-aproveita-disso.ghtml%3Futm_source%3Dwhatsapp%26utm_medium%3Dshare-engagement%26utm_campaign%3Dte-materias\n",
      "https://telegram.me/share/url?url=https://g1.globo.com/mundo/blog/sandra-cohen/post/2022/01/26/por-que-eua-e-europa-divergem-sobre-acao-na-ucrania-e-como-putin-se-aproveita-disso.ghtml?utm_source%3Dtelegram%26utm_medium%3Dshare-engagement%26utm_campaign%3Dte-materias\n",
      "tg://msg_url?url=https%3A%2F%2Fg1.globo.com%2Fmundo%2Fblog%2Fsandra-cohen%2Fpost%2F2022%2F01%2F26%2Fpor-que-eua-e-europa-divergem-sobre-acao-na-ucrania-e-como-putin-se-aproveita-disso.ghtml%3Futm_source%3Dtelegram%26utm_medium%3Dshare-engagement%26utm_campaign%3Dte-materias\n",
      "https://g1.globo.com/mundo/noticia/2022/01/26/biden-ameaca-impor-sancoes-pessoais-a-putin-se-a-russia-invadir-a-ucrania.ghtml\n",
      "https://api.whatsapp.com/send?text=https://g1.globo.com/mundo/noticia/2022/01/26/biden-ameaca-impor-sancoes-pessoais-a-putin-se-a-russia-invadir-a-ucrania.ghtml?utm_source%3Dwhatsapp%26utm_medium%3Dshare-engagement%26utm_campaign%3Dte-materias\n",
      "https://web.whatsapp.com/send?text=https%3A%2F%2Fg1.globo.com%2Fmundo%2Fnoticia%2F2022%2F01%2F26%2Fbiden-ameaca-impor-sancoes-pessoais-a-putin-se-a-russia-invadir-a-ucrania.ghtml%3Futm_source%3Dwhatsapp%26utm_medium%3Dshare-engagement%26utm_campaign%3Dte-materias\n",
      "https://telegram.me/share/url?url=https://g1.globo.com/mundo/noticia/2022/01/26/biden-ameaca-impor-sancoes-pessoais-a-putin-se-a-russia-invadir-a-ucrania.ghtml?utm_source%3Dtelegram%26utm_medium%3Dshare-engagement%26utm_campaign%3Dte-materias\n",
      "tg://msg_url?url=https%3A%2F%2Fg1.globo.com%2Fmundo%2Fnoticia%2F2022%2F01%2F26%2Fbiden-ameaca-impor-sancoes-pessoais-a-putin-se-a-russia-invadir-a-ucrania.ghtml%3Futm_source%3Dtelegram%26utm_medium%3Dshare-engagement%26utm_campaign%3Dte-materias\n",
      "https://g1.globo.com/mundo/noticia/2022/01/21/russia-exige-retirada-das-tropas-da-otan-da-romenia-e-da-bulgaria.ghtml\n",
      "https://g1.globo.com/mundo/noticia/2022/01/18/russia-pode-atacar-ucrania-a-qualquer-momento-previnem-eua.ghtml\n",
      "https://g1.globo.com/mundo/noticia/2022/01/18/reino-unido-e-canada-enviam-ajuda-militar-a-ucrania-em-meio-a-aumento-de-tensoes-com-a-russia.ghtml\n"
     ]
    }
   ],
   "source": [
    "import re\n",
    "from urllib.request import urlopen\n",
    "\n",
    "from bs4 import BeautifulSoup\n",
    "\n",
    "\n",
    "pages = set()\n",
    "invalid_pages = set()\n",
    "new_page = \"\"\n",
    "\n",
    "def open_page(url_page):\n",
    "    global pages\n",
    "    try:\n",
    "        if url_page not in invalid_pages:\n",
    "            html = urlopen(url_page)\n",
    "            bsObj = BeautifulSoup(html, \"html.parser\")\n",
    "            regex_keys = ('.bolsonaro.|.russia.|.ucrania.')\n",
    "            search = bsObj.findAll(\"a\", href=re.compile(regex_keys))\n",
    "\n",
    "            for link in search:\n",
    "                if \"href\" in link.attrs:\n",
    "                    if link.attrs['href'] not in pages and link.attrs['href'] not in invalid_pages:\n",
    "                        new_page = link.attrs['href']\n",
    "                        print(new_page)\n",
    "                        pages.add(new_page)\n",
    "                        open_page(new_page)\n",
    "    except:\n",
    "        invalid_pages.add(new_page)\n",
    "\n",
    "open_page(\"http://g1.globo.com\")"
   ]
  },
  {
   "cell_type": "code",
   "execution_count": null,
   "metadata": {},
   "outputs": [],
   "source": []
  }
 ],
 "metadata": {
  "kernelspec": {
   "display_name": "Python 3",
   "language": "python",
   "name": "python3"
  },
  "language_info": {
   "codemirror_mode": {
    "name": "ipython",
    "version": 3
   },
   "file_extension": ".py",
   "mimetype": "text/x-python",
   "name": "python",
   "nbconvert_exporter": "python",
   "pygments_lexer": "ipython3",
   "version": "3.7.4"
  }
 },
 "nbformat": 4,
 "nbformat_minor": 2
}
